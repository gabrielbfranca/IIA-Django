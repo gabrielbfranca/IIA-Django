{
 "cells": [
  {
   "cell_type": "code",
   "execution_count": null,
   "id": "d9f6611f",
   "metadata": {},
   "outputs": [],
   "source": [
    "import requests\n",
    "from dotenv import load_dotenv\n",
    "import os\n",
    "data = requests.get(\"https://api.harvardartmuseums.org\")"
   ]
  }
 ],
 "metadata": {
  "kernelspec": {
   "display_name": "venv",
   "language": "python",
   "name": "python3"
  },
  "language_info": {
   "name": "python",
   "version": "3.12.0"
  }
 },
 "nbformat": 4,
 "nbformat_minor": 5
}
