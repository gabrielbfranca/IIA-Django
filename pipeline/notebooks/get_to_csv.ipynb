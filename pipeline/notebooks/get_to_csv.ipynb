{
 "cells": [
  {
   "cell_type": "code",
   "execution_count": null,
   "id": "d9f6611f",
   "metadata": {},
   "outputs": [
    {
     "data": {
      "application/vnd.jupyter.widget-view+json": {
       "model_id": "bdb5dc6600f34cd5bd4f08f8361b9d2d",
       "version_major": 2,
       "version_minor": 0
      },
      "text/plain": [
       "Resolving data files:   0%|          | 0/72 [00:00<?, ?it/s]"
      ]
     },
     "metadata": {},
     "output_type": "display_data"
    },
    {
     "data": {
      "text/plain": [
       "['image', 'artist', 'genre', 'style']"
      ]
     },
     "execution_count": 1,
     "metadata": {},
     "output_type": "execute_result"
    }
   ],
   "source": [
    "from datasets import load_dataset\n",
    "\n",
    "def load_wikiart_dataset():\n",
    "    dataset = load_dataset(\"huggan/wikiart\", split=\"train\")\n",
    "    return dataset\n",
    "dataset = load_wikiart_dataset()\n",
    "dataset.column_names"
   ]
  },
  {
   "cell_type": "markdown",
   "id": "8c0063a2",
   "metadata": {},
   "source": [
    "## Tranformar as colunas em texto"
   ]
  },
  {
   "cell_type": "code",
   "execution_count": null,
   "id": "b4fd21a3",
   "metadata": {},
   "outputs": [],
   "source": []
  }
 ],
 "metadata": {
  "kernelspec": {
   "display_name": "venv",
   "language": "python",
   "name": "python3"
  },
  "language_info": {
   "codemirror_mode": {
    "name": "ipython",
    "version": 3
   },
   "file_extension": ".py",
   "mimetype": "text/x-python",
   "name": "python",
   "nbconvert_exporter": "python",
   "pygments_lexer": "ipython3",
   "version": "3.12.0"
  }
 },
 "nbformat": 4,
 "nbformat_minor": 5
}
